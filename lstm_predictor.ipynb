{
 "cells": [
  {
   "cell_type": "markdown",
   "metadata": {},
   "source": [
    "# Long-Short Term Memory Recurrent Neural Network (LSTM RNN) for predicting Gold prices\n",
    "## Programmed by: Laramie Dunlap 10/17/2022\n",
    "\n",
    "\n",
    "With this notebook, I will demonstrate some cool functionalities Python provides for building out deep learning models and how they can be used to inform trading decisions."
   ]
  },
  {
   "cell_type": "markdown",
   "metadata": {},
   "source": [
    "### Step 1: Setting up a simple data pipeline\n",
    "\n",
    "I'm going to use Alpaca's free trade api to get our data. For this example, I'm going to use GLD as the target we're trying to predict, and then use TLT, HYG, USO, and SPY as features. In trading terms, we're going to try and predict Gold movement based on 4 correlated markets: T-bonds, junk bonds, oil, and the S&P 500. \n",
    "\n",
    "It's important to start out a machine learning project's data pipeline in a way that allows data scientists and feature engineers to easily manipulate and test different variables and lookback periods. After the initial imports, I'll write a couple simple methods to help ensure we do just that."
   ]
  },
  {
   "cell_type": "code",
   "execution_count": 1,
   "metadata": {},
   "outputs": [],
   "source": [
    "# Initial imports\n",
    "import numpy as np\n",
    "import pandas as pd\n",
    "from pathlib import Path\n",
    "\n",
    "%matplotlib inline\n",
    "# Set the random seed for reproducibility\n",
    "# Note: This is used for model prototyping, but it is good practice to comment this out and run multiple experiments to evaluate your model.\n",
    "from numpy.random import seed\n",
    "\n",
    "seed(1)\n",
    "from tensorflow import random\n",
    "\n",
    "random.set_seed(2)\n",
    "\n",
    "# Import Alpaca functions and environmental variables\n",
    "from alpaca_trade_api.rest import REST, TimeFrame\n",
    "from dotenv import load_dotenv\n",
    "\n",
    "load_dotenv()\n",
    "\n",
    "# Set Alpca API key and secret key, then insantiate an API object\n",
    "alpaca_api_key = os.getenv(\"ALPACA_API_KEY\")\n",
    "alpaca_secret_key = os.getenv(\"ALPACA_SECURITY_KEY\")\n",
    "\n",
    "tradeapi = REST(alpaca_api_key, alpaca_secret_key, api_version='v2')"
   ]
  },
  {
   "cell_type": "code",
   "execution_count": 2,
   "metadata": {},
   "outputs": [],
   "source": [
    "import datetime\n",
    "from datetime import date, timedelta\n",
    "import re\n",
    "# Define functions I use to get Alpaca Trade API data\n",
    "\n",
    "def calc_start_date(years_ago: int) -> str:\n",
    "    \"\"\"Calculates the date 'x' years ago and returns a string that can be used with the tradeapi\"\"\"\n",
    "    to_day=str(date.today())\n",
    "    match = re.match(r'(\\d\\d\\d\\d)-(\\d\\d)-(\\d\\d)', to_day)\n",
    "    _yrsago= int(match.group(1))-years_ago\n",
    "    _yrsago = str(_yrsago)+'-'+match.group(2)+'-'+match.group(3)\n",
    "    return _yrsago\n",
    "\n",
    "def _end():\n",
    "    \"\"\"Returns the end time for our get_data method. Alpaca's free version does not permit querying data from the past 15 minutes\"\"\"\n",
    "    return (datetime.datetime.now(datetime.timezone.utc) - datetime.timedelta(minutes=16)).strftime('%Y-%m-%dT%H:%M:%SZ')\n",
    "\n",
    "def get_data(ticker, start, end, tradeapi) -> pd.DataFrame:\n",
    "    \"\"\"Executes the get_bars method from Alpaca Trade API and returns a dataframe\"\"\"\n",
    "    return tradeapi.get_bars(\n",
    "        ticker,\n",
    "        TimeFrame.Day,\n",
    "        start,\n",
    "        end\n",
    "    ).df"
   ]
  },
  {
   "cell_type": "code",
   "execution_count": 3,
   "metadata": {},
   "outputs": [
    {
     "data": {
      "text/html": [
       "<div>\n",
       "<style scoped>\n",
       "    .dataframe tbody tr th:only-of-type {\n",
       "        vertical-align: middle;\n",
       "    }\n",
       "\n",
       "    .dataframe tbody tr th {\n",
       "        vertical-align: top;\n",
       "    }\n",
       "\n",
       "    .dataframe thead th {\n",
       "        text-align: right;\n",
       "    }\n",
       "</style>\n",
       "<table border=\"1\" class=\"dataframe\">\n",
       "  <thead>\n",
       "    <tr style=\"text-align: right;\">\n",
       "      <th></th>\n",
       "      <th>open</th>\n",
       "      <th>high</th>\n",
       "      <th>low</th>\n",
       "      <th>close</th>\n",
       "      <th>volume</th>\n",
       "      <th>trade_count</th>\n",
       "      <th>vwap</th>\n",
       "    </tr>\n",
       "    <tr>\n",
       "      <th>timestamp</th>\n",
       "      <th></th>\n",
       "      <th></th>\n",
       "      <th></th>\n",
       "      <th></th>\n",
       "      <th></th>\n",
       "      <th></th>\n",
       "      <th></th>\n",
       "    </tr>\n",
       "  </thead>\n",
       "  <tbody>\n",
       "    <tr>\n",
       "      <th>2017-10-17 04:00:00+00:00</th>\n",
       "      <td>255.24</td>\n",
       "      <td>255.52</td>\n",
       "      <td>254.9800</td>\n",
       "      <td>255.47</td>\n",
       "      <td>32507646</td>\n",
       "      <td>120555</td>\n",
       "      <td>254.627844</td>\n",
       "    </tr>\n",
       "    <tr>\n",
       "      <th>2017-10-18 04:00:00+00:00</th>\n",
       "      <td>255.92</td>\n",
       "      <td>255.95</td>\n",
       "      <td>255.5000</td>\n",
       "      <td>255.72</td>\n",
       "      <td>40936574</td>\n",
       "      <td>121862</td>\n",
       "      <td>255.720138</td>\n",
       "    </tr>\n",
       "    <tr>\n",
       "      <th>2017-10-19 04:00:00+00:00</th>\n",
       "      <td>254.83</td>\n",
       "      <td>255.83</td>\n",
       "      <td>254.3500</td>\n",
       "      <td>255.79</td>\n",
       "      <td>61948288</td>\n",
       "      <td>190692</td>\n",
       "      <td>255.297268</td>\n",
       "    </tr>\n",
       "    <tr>\n",
       "      <th>2017-10-20 04:00:00+00:00</th>\n",
       "      <td>256.73</td>\n",
       "      <td>257.14</td>\n",
       "      <td>255.7744</td>\n",
       "      <td>257.11</td>\n",
       "      <td>89178367</td>\n",
       "      <td>196614</td>\n",
       "      <td>256.766187</td>\n",
       "    </tr>\n",
       "    <tr>\n",
       "      <th>2017-10-23 04:00:00+00:00</th>\n",
       "      <td>257.51</td>\n",
       "      <td>257.51</td>\n",
       "      <td>256.0200</td>\n",
       "      <td>256.11</td>\n",
       "      <td>64001716</td>\n",
       "      <td>196938</td>\n",
       "      <td>256.704266</td>\n",
       "    </tr>\n",
       "  </tbody>\n",
       "</table>\n",
       "</div>"
      ],
      "text/plain": [
       "                             open    high       low   close    volume  \\\n",
       "timestamp                                                               \n",
       "2017-10-17 04:00:00+00:00  255.24  255.52  254.9800  255.47  32507646   \n",
       "2017-10-18 04:00:00+00:00  255.92  255.95  255.5000  255.72  40936574   \n",
       "2017-10-19 04:00:00+00:00  254.83  255.83  254.3500  255.79  61948288   \n",
       "2017-10-20 04:00:00+00:00  256.73  257.14  255.7744  257.11  89178367   \n",
       "2017-10-23 04:00:00+00:00  257.51  257.51  256.0200  256.11  64001716   \n",
       "\n",
       "                           trade_count        vwap  \n",
       "timestamp                                           \n",
       "2017-10-17 04:00:00+00:00       120555  254.627844  \n",
       "2017-10-18 04:00:00+00:00       121862  255.720138  \n",
       "2017-10-19 04:00:00+00:00       190692  255.297268  \n",
       "2017-10-20 04:00:00+00:00       196614  256.766187  \n",
       "2017-10-23 04:00:00+00:00       196938  256.704266  "
      ]
     },
     "execution_count": 3,
     "metadata": {},
     "output_type": "execute_result"
    }
   ],
   "source": [
    "\n",
    "# Get Data from API into a Pandas dataframe:\n",
    "spy_df = get_data(\"SPY\", calc_start_date(5), _end(), tradeapi)\n",
    "spy_df.head()"
   ]
  },
  {
   "cell_type": "markdown",
   "metadata": {},
   "source": [
    "### So we get a lot of columns for each ticker. \n",
    "\n",
    "This may or may not be useful, but if we built our initial data pull function (get_data)  *too narrowly*  (i.e. only getting the close column), it would be difficult to go back and change the process if we decided to investigate tradecount or range, etc. \n",
    "\n",
    "One thing we don't need is the timestamp that follows the date in our index column, since these ETFs will always have end of day data recorded at the same time.\n",
    "\n",
    "Next we're going to write a function to clean up our timestamp index (which will be ignored anyway by the nueral network but added back in later for plotting), and we'll make a function to take in a string of tickers and return their closing values in a dataframe. "
   ]
  },
  {
   "cell_type": "code",
   "execution_count": 4,
   "metadata": {},
   "outputs": [],
   "source": [
    "def clean_index(_df: pd.DataFrame) -> list:\n",
    "    \"\"\"returns a cleaned up date index column on a dataframe\"\"\"\n",
    "    _index = _df.index.to_list()\n",
    "    return [i.date() for i in _index]\n",
    "\n",
    "def get_feature_and_tgt_close(list_f: list, tgt:str, yrsago:int) -> pd.DataFrame:\n",
    "    \"\"\"Takes a list of feature tickers, a target ticker, and a lookback period, and returns a dataframe of their closing prices\"\"\"\n",
    "    df = pd.DataFrame()\n",
    "    \n",
    "    # add feature ticker closing prices\n",
    "    for tk in list_f:\n",
    "        temp_df = get_data(tk, calc_start_date(yrsago), _end(), tradeapi)\n",
    "        temp_df.index = clean_index(temp_df)\n",
    "        df[tk] = temp_df['close']\n",
    "    \n",
    "    # add target ticker closing prices\n",
    "    temp_df = get_data(tgt, calc_start_date(yrsago), _end(), tradeapi)\n",
    "    temp_df.index = clean_index(temp_df)\n",
    "    df[tgt] = temp_df['close']\n",
    "    \n",
    "    # drop records with NaN from the returned dataframe (sometimes the issue dates won't line up, so you want to make sure the data is consistent in length)\n",
    "    return df.dropna()\n"
   ]
  },
  {
   "cell_type": "code",
   "execution_count": 5,
   "metadata": {},
   "outputs": [
    {
     "data": {
      "text/html": [
       "<div>\n",
       "<style scoped>\n",
       "    .dataframe tbody tr th:only-of-type {\n",
       "        vertical-align: middle;\n",
       "    }\n",
       "\n",
       "    .dataframe tbody tr th {\n",
       "        vertical-align: top;\n",
       "    }\n",
       "\n",
       "    .dataframe thead th {\n",
       "        text-align: right;\n",
       "    }\n",
       "</style>\n",
       "<table border=\"1\" class=\"dataframe\">\n",
       "  <thead>\n",
       "    <tr style=\"text-align: right;\">\n",
       "      <th></th>\n",
       "      <th>TLT</th>\n",
       "      <th>HYG</th>\n",
       "      <th>SPY</th>\n",
       "      <th>GLD</th>\n",
       "    </tr>\n",
       "  </thead>\n",
       "  <tbody>\n",
       "    <tr>\n",
       "      <th>2017-10-17</th>\n",
       "      <td>125.92</td>\n",
       "      <td>88.51</td>\n",
       "      <td>255.47</td>\n",
       "      <td>122.13</td>\n",
       "    </tr>\n",
       "    <tr>\n",
       "      <th>2017-10-18</th>\n",
       "      <td>125.09</td>\n",
       "      <td>88.60</td>\n",
       "      <td>255.72</td>\n",
       "      <td>121.67</td>\n",
       "    </tr>\n",
       "    <tr>\n",
       "      <th>2017-10-19</th>\n",
       "      <td>125.31</td>\n",
       "      <td>88.61</td>\n",
       "      <td>255.79</td>\n",
       "      <td>122.39</td>\n",
       "    </tr>\n",
       "    <tr>\n",
       "      <th>2017-10-20</th>\n",
       "      <td>123.98</td>\n",
       "      <td>88.69</td>\n",
       "      <td>257.11</td>\n",
       "      <td>121.61</td>\n",
       "    </tr>\n",
       "    <tr>\n",
       "      <th>2017-10-23</th>\n",
       "      <td>124.20</td>\n",
       "      <td>88.59</td>\n",
       "      <td>256.11</td>\n",
       "      <td>121.80</td>\n",
       "    </tr>\n",
       "  </tbody>\n",
       "</table>\n",
       "</div>"
      ],
      "text/plain": [
       "               TLT    HYG     SPY     GLD\n",
       "2017-10-17  125.92  88.51  255.47  122.13\n",
       "2017-10-18  125.09  88.60  255.72  121.67\n",
       "2017-10-19  125.31  88.61  255.79  122.39\n",
       "2017-10-20  123.98  88.69  257.11  121.61\n",
       "2017-10-23  124.20  88.59  256.11  121.80"
      ]
     },
     "execution_count": 5,
     "metadata": {},
     "output_type": "execute_result"
    }
   ],
   "source": [
    "\n",
    "user_df = get_feature_and_tgt_close(['TLT', 'HYG', 'SPY'], 'GLD', 5)\n",
    "user_df.head()"
   ]
  },
  {
   "cell_type": "markdown",
   "metadata": {},
   "source": [
    "#### Nifty!\n",
    "\n",
    "Now we've got a nice, flexible pipeline. Our initial data pull is seperated from this specific machine learning application, so we've got some forward compatibaility built in. At this point in the development process, I would move the basic functions (get_data, calc_start_date, clean_index) into a util.py file, as these are the base functions for our Machine Learning suite. The get_feature_and_tgt_close function is a really long method name, but readability == useability. I would move this function into a more specific lstm.py file, depending on how broad or narrow the nature of the program. \n",
    "\n",
    "We could also use the df.to_csv() method to save a copy of our data and start building a database this way, then check our database for it first (our models can be cached and reloaded as well)\n",
    "\n",
    "Alright now to the cool stuff."
   ]
  },
  {
   "cell_type": "markdown",
   "metadata": {},
   "source": [
    "### Step 2: Cooking the Data"
   ]
  },
  {
   "cell_type": "markdown",
   "metadata": {},
   "source": [
    "### Scaling with `MinMaxScaler`\n",
    "\n",
    "Once the training and test datasets are created, we need to scale the data before training the LSTM model. Machine learning models tend to do better with smaller numbers. We will use the `MinMaxScaler` from `sklearn` to scale all values between `0` and `1`.\n",
    "\n",
    "A lot of people like to shape and split their data then scale it -- which is fine when you're working with 2D data. However, We're in the deep end. We have a model that will take `N` weekly windows of `5` days, for `X` different features. That's a **3** dimensional model (at 4 it gets really spicy from a programming standpoint) The shape of your data is the hardest part with neural networks, and often the most abstract and difficult to visualize. \n",
    "\n",
    "**KEY POINT**: The preprocessing scalers most data scientists use in python are built for 2D arrays. So either you need to flatten and reshape data structures (a bunch), or just scale the data prior to shaping and splitting into your train-test groups. \n",
    "\n",
    "As an aside, you can also create your own 3D scalers. You have to build an inherited class from the one we're importing below -- which would show off some cool python skills but in reality just makes the codebase harder to deal with. \n",
    "\n",
    "**ANOTHER KEY POINT**: One of the main reasons people like to split up their data before fitting a scaler is because you *MUST NOT* fit the scaler to all your data, only the training portion. Otherwise, you are letting your model see the shape of the answers to a test... on shapes."
   ]
  },
  {
   "cell_type": "code",
   "execution_count": 6,
   "metadata": {},
   "outputs": [
    {
     "name": "stderr",
     "output_type": "stream",
     "text": [
      "c:\\Users\\Laramie\\anaconda3\\envs\\dev\\lib\\site-packages\\sklearn\\base.py:444: UserWarning: X has feature names, but MinMaxScaler was fitted without feature names\n",
      "  f\"X has feature names, but {self.__class__.__name__} was fitted without\"\n",
      "c:\\Users\\Laramie\\anaconda3\\envs\\dev\\lib\\site-packages\\sklearn\\base.py:444: UserWarning: X has feature names, but MinMaxScaler was fitted without feature names\n",
      "  f\"X has feature names, but {self.__class__.__name__} was fitted without\"\n",
      "c:\\Users\\Laramie\\anaconda3\\envs\\dev\\lib\\site-packages\\sklearn\\base.py:444: UserWarning: X has feature names, but MinMaxScaler was fitted without feature names\n",
      "  f\"X has feature names, but {self.__class__.__name__} was fitted without\"\n",
      "c:\\Users\\Laramie\\anaconda3\\envs\\dev\\lib\\site-packages\\sklearn\\base.py:444: UserWarning: X has feature names, but MinMaxScaler was fitted without feature names\n",
      "  f\"X has feature names, but {self.__class__.__name__} was fitted without\"\n"
     ]
    },
    {
     "data": {
      "text/html": [
       "<div>\n",
       "<style scoped>\n",
       "    .dataframe tbody tr th:only-of-type {\n",
       "        vertical-align: middle;\n",
       "    }\n",
       "\n",
       "    .dataframe tbody tr th {\n",
       "        vertical-align: top;\n",
       "    }\n",
       "\n",
       "    .dataframe thead th {\n",
       "        text-align: right;\n",
       "    }\n",
       "</style>\n",
       "<table border=\"1\" class=\"dataframe\">\n",
       "  <thead>\n",
       "    <tr style=\"text-align: right;\">\n",
       "      <th></th>\n",
       "      <th>TLT</th>\n",
       "      <th>HYG</th>\n",
       "      <th>SPY</th>\n",
       "      <th>GLD</th>\n",
       "    </tr>\n",
       "  </thead>\n",
       "  <tbody>\n",
       "    <tr>\n",
       "      <th>2017-10-17</th>\n",
       "      <td>0.233675</td>\n",
       "      <td>0.991027</td>\n",
       "      <td>0.167361</td>\n",
       "      <td>0.133229</td>\n",
       "    </tr>\n",
       "    <tr>\n",
       "      <th>2017-10-18</th>\n",
       "      <td>0.219741</td>\n",
       "      <td>0.995513</td>\n",
       "      <td>0.168648</td>\n",
       "      <td>0.127672</td>\n",
       "    </tr>\n",
       "    <tr>\n",
       "      <th>2017-10-19</th>\n",
       "      <td>0.223435</td>\n",
       "      <td>0.996012</td>\n",
       "      <td>0.169008</td>\n",
       "      <td>0.136369</td>\n",
       "    </tr>\n",
       "    <tr>\n",
       "      <th>2017-10-20</th>\n",
       "      <td>0.201108</td>\n",
       "      <td>1.000000</td>\n",
       "      <td>0.175802</td>\n",
       "      <td>0.126948</td>\n",
       "    </tr>\n",
       "    <tr>\n",
       "      <th>2017-10-23</th>\n",
       "      <td>0.204801</td>\n",
       "      <td>0.995015</td>\n",
       "      <td>0.170655</td>\n",
       "      <td>0.129243</td>\n",
       "    </tr>\n",
       "  </tbody>\n",
       "</table>\n",
       "</div>"
      ],
      "text/plain": [
       "                 TLT       HYG       SPY       GLD\n",
       "2017-10-17  0.233675  0.991027  0.167361  0.133229\n",
       "2017-10-18  0.219741  0.995513  0.168648  0.127672\n",
       "2017-10-19  0.223435  0.996012  0.169008  0.136369\n",
       "2017-10-20  0.201108  1.000000  0.175802  0.126948\n",
       "2017-10-23  0.204801  0.995015  0.170655  0.129243"
      ]
     },
     "metadata": {},
     "output_type": "display_data"
    },
    {
     "data": {
      "text/plain": [
       "{'TLT': MinMaxScaler(),\n",
       " 'HYG': MinMaxScaler(),\n",
       " 'SPY': MinMaxScaler(),\n",
       " 'GLD': MinMaxScaler()}"
      ]
     },
     "metadata": {},
     "output_type": "display_data"
    }
   ],
   "source": [
    "# Use the MinMaxScaler to scale data between 0 and 1.\n",
    "from sklearn.preprocessing import MinMaxScaler\n",
    "\n",
    "# These are some variables we're going to be using a lot in this notebook.\n",
    "window = 5\n",
    "\n",
    "df = user_df\n",
    "feature_cols = df.columns[:-1]\n",
    "target_col = df.columns[-1]\n",
    "\n",
    "test_ratio = 0.7\n",
    "test_range = int(round(len(df)*test_ratio,0))\n",
    "\n",
    "# Each feature needs its own scaler, so we'll make a dictionary to help keep track of these so we can use them later to inverse transform.\n",
    "scaler_dict = {c: None for c in df.columns}\n",
    "for key in scaler_dict.keys():\n",
    "    scaler_dict[key] = MinMaxScaler()\n",
    "    _train = np.array(df[key].iloc[0:test_range].values).reshape(-1,1)\n",
    "    scaler_dict[key].fit(_train)\n",
    "    df[[key]] = scaler_dict[key].transform(df[[key]])\n",
    "\n",
    "# Note: Warnings come from a version of sklearn that included the user warnings -- not a big deal to worry about. \n",
    "display(df.head())\n",
    "display(scaler_dict)"
   ]
  },
  {
   "cell_type": "markdown",
   "metadata": {},
   "source": [
    "### Step 3: Creating the Features `X` and Target `y` Data\n",
    "\n",
    "The next step towards preparing the data is to create the input features vectors `X` and the target vector `y`. This is standard nomenclature for machine learning variables. We will use a `window_data()` function to create these vectors.\n",
    "\n",
    "This function chunks the data up with a rolling window of _X<sub>t</sub> - window_ to predict _X<sub>t</sub>_.\n",
    "\n",
    "The function returns two `numpy` arrays:\n",
    "\n",
    "* `X`: The input features vectors.\n",
    "\n",
    "* `y`: The target vector.\n",
    "\n",
    "The function has the following parameters:\n",
    "\n",
    "* `df`: DataFrame with the time series data.\n",
    "\n",
    "* `window`: The window size in days of previous closing prices that will be used for the prediction.\n",
    "\n",
    "* `feature_cols`: The columns where the features are located.\n",
    "\n",
    "* `target_col`: The column where the target is located."
   ]
  },
  {
   "cell_type": "code",
   "execution_count": 12,
   "metadata": {},
   "outputs": [],
   "source": [
    "def window_data(df, feature_cols, target_col, window):\n",
    "    \"\"\"\n",
    "    This function accepts the column number for the features (X) and the target (y).\n",
    "    It chunks the data up with a rolling window of Xt - window to predict Xt.\n",
    "    It returns two numpy arrays of X and y.\n",
    "    \"\"\"\n",
    "    def reshape_arr(_arr: np.array) -> tuple:\n",
    "        \"\"\"returns the right shape\"\"\"\n",
    "        features = len(feature_cols)\n",
    "        size = _arr.shape[0]*_arr.shape[1]\n",
    "        return _arr.reshape(int((size/(features*window))),features,window)\n",
    "    \n",
    "    X = []\n",
    "    y = []\n",
    "    for i in range(len(df) - window):\n",
    "        for c in feature_cols: \n",
    "            features = df.iloc[i : (i + window), df.columns.get_loc(c)].values\n",
    "            X.append(features)\n",
    "        target = df.iloc[(i + window), df.columns.get_loc(target_col)]\n",
    "        y.append(target)\n",
    "    X = reshape_arr(np.array(X))\n",
    "    y = np.array(y).reshape(len(y),1,1)\n",
    "    return  X , y"
   ]
  },
  {
   "cell_type": "code",
   "execution_count": 13,
   "metadata": {},
   "outputs": [
    {
     "name": "stdout",
     "output_type": "stream",
     "text": [
      "X sample values:\n",
      "[[[0.23367467 0.21974148 0.22343461 0.20110794 0.20480107]\n",
      "  [0.99102692 0.99551346 0.99601196 1.         0.99501496]\n",
      "  [0.16736143 0.16864804 0.16900829 0.17580155 0.17065514]]\n",
      "\n",
      " [[0.21974148 0.22343461 0.20110794 0.20480107 0.1918751 ]\n",
      "  [0.99551346 0.99601196 1.         0.99501496 0.99501496]\n",
      "  [0.16864804 0.16900829 0.17580155 0.17065514 0.17297103]]] \n",
      "\n",
      "y sample values:\n",
      "[[[0.12356565]]\n",
      "\n",
      " [[0.12380722]]]\n"
     ]
    }
   ],
   "source": [
    "X , y = window_data(df, feature_cols, target_col, window)\n",
    "print (f\"X sample values:\\n{X[:2]} \\n\")\n",
    "print (f\"y sample values:\\n{y[:2]}\")\n"
   ]
  },
  {
   "cell_type": "markdown",
   "metadata": {},
   "source": [
    "### Splitting Data Between Training and Testing Sets\n",
    "\n",
    "To avoid the dataset being randomized, we will manually split the data using array slicing with our `test_ratio` variable."
   ]
  },
  {
   "cell_type": "code",
   "execution_count": 14,
   "metadata": {},
   "outputs": [],
   "source": [
    "# We're going to use 70% of the data for training and the remainder for testing. While notebooks are good for exploring and testing data,\n",
    "# I would set this as a user option in a webapp. Would be very straightforward. \n",
    "split = int(test_ratio * len(X))\n",
    "X_train = X[: split]\n",
    "X_test = X[split:]\n",
    "y_train = y[: split]\n",
    "y_test = y[split:]"
   ]
  },
  {
   "cell_type": "markdown",
   "metadata": {},
   "source": [
    "---\n",
    "\n",
    "## Step 4: Build and Train the LSTM RNN\n",
    "\n",
    "Now it's time to design a custom LSTM RNN in Keras and fit (train) it using the training data we've piped in, cleaned, and sliced.\n",
    "\n",
    "We will need to:\n",
    "\n",
    "1. Define the model architecture in Keras.\n",
    "\n",
    "2. Compile the model.\n",
    "\n",
    "3. Fit the model to the training data.\n",
    "\n",
    "The LSTM RNN model in Keras uses the `Sequential` model and the `LSTM` layers. We're also going to utilize a layer called `Dropout`.\n",
    "\n",
    "* `Dropout`: Dropout is a regularization technique for reducing overfitting in neural networks. This type of layer applies the dropout technique to the input."
   ]
  },
  {
   "cell_type": "code",
   "execution_count": 15,
   "metadata": {},
   "outputs": [],
   "source": [
    "# Import required Keras modules\n",
    "from tensorflow.keras.models import Sequential\n",
    "from tensorflow.keras.layers import LSTM, Dense, Dropout"
   ]
  },
  {
   "cell_type": "markdown",
   "metadata": {},
   "source": [
    "### Defining the LSTM RNN Model Structure\n",
    "\n",
    "To create an LSTM RNN model, we will add `LSTM` layers. The `return_sequences` parameter needs to set to `True` every time we add a new `LSTM` layer, excluding the final layer. The `input_shape` is the number of time steps and the number of indicators\n",
    "\n",
    "After each `LSTM` layer, we add a `Dropout` layer to prevent overfitting. The parameter passed to the `Dropout` layer is the fraction of nodes that will be drop on each epoch, for this demo, we will use a dropout value of `0.20`, it means that on each epoch we will randomly drop `20%` of the units.\n",
    "\n",
    "The number of units in each `LSTM` layers, is equal to the size of the time window, in this demo, we are taking five previous of closing `feature` prices to predict the next `target` closing price."
   ]
  },
  {
   "cell_type": "code",
   "execution_count": 18,
   "metadata": {},
   "outputs": [
    {
     "data": {
      "text/plain": [
       "(877, 3, 5)"
      ]
     },
     "execution_count": 18,
     "metadata": {},
     "output_type": "execute_result"
    }
   ],
   "source": [
    "X_train.shape"
   ]
  },
  {
   "cell_type": "code",
   "execution_count": 116,
   "metadata": {},
   "outputs": [],
   "source": [
    "# Define the LSTM RNN model.\n",
    "model = Sequential()\n",
    "\n",
    "number_units = 5\n",
    "dropout_fraction = 0.2\n",
    "\n",
    "# Layer 1\n",
    "model.add(LSTM(\n",
    "    units=number_units,\n",
    "    return_sequences=True,\n",
    "    input_shape=(X_train.shape[1],5)\n",
    "    ))\n",
    "model.add(Dropout(dropout_fraction))\n",
    "# Layer 2\n",
    "model.add(LSTM(units=number_units, return_sequences=True))\n",
    "model.add(Dropout(dropout_fraction))\n",
    "# Layer 3\n",
    "model.add(LSTM(units=number_units))\n",
    "model.add(Dropout(dropout_fraction))\n",
    "# Output layer\n",
    "model.add(Dense(1))"
   ]
  },
  {
   "cell_type": "code",
   "execution_count": 117,
   "metadata": {},
   "outputs": [],
   "source": [
    "# Compile the model\n",
    "model.compile(optimizer=\"adam\", loss=\"mean_squared_error\")"
   ]
  },
  {
   "cell_type": "code",
   "execution_count": 118,
   "metadata": {},
   "outputs": [
    {
     "name": "stdout",
     "output_type": "stream",
     "text": [
      "Model: \"sequential_5\"\n",
      "_________________________________________________________________\n",
      " Layer (type)                Output Shape              Param #   \n",
      "=================================================================\n",
      " lstm_17 (LSTM)              (None, 3, 5)              220       \n",
      "                                                                 \n",
      " dropout_16 (Dropout)        (None, 3, 5)              0         \n",
      "                                                                 \n",
      " lstm_18 (LSTM)              (None, 3, 5)              220       \n",
      "                                                                 \n",
      " dropout_17 (Dropout)        (None, 3, 5)              0         \n",
      "                                                                 \n",
      " lstm_19 (LSTM)              (None, 5)                 220       \n",
      "                                                                 \n",
      " dropout_18 (Dropout)        (None, 5)                 0         \n",
      "                                                                 \n",
      " dense_4 (Dense)             (None, 1)                 6         \n",
      "                                                                 \n",
      "=================================================================\n",
      "Total params: 666\n",
      "Trainable params: 666\n",
      "Non-trainable params: 0\n",
      "_________________________________________________________________\n"
     ]
    }
   ],
   "source": [
    "# Summarize the model\n",
    "model.summary()"
   ]
  },
  {
   "cell_type": "code",
   "execution_count": 119,
   "metadata": {},
   "outputs": [
    {
     "name": "stdout",
     "output_type": "stream",
     "text": [
      "Epoch 1/10\n",
      "877/877 [==============================] - 4s 2ms/step - loss: 0.0070\n",
      "Epoch 2/10\n",
      "877/877 [==============================] - 2s 2ms/step - loss: 0.0105\n",
      "Epoch 3/10\n",
      "877/877 [==============================] - 2s 2ms/step - loss: 0.0121\n",
      "Epoch 4/10\n",
      "877/877 [==============================] - 2s 2ms/step - loss: 0.0124\n",
      "Epoch 5/10\n",
      "877/877 [==============================] - 2s 2ms/step - loss: 0.0137\n",
      "Epoch 6/10\n",
      "877/877 [==============================] - 2s 2ms/step - loss: 0.0152\n",
      "Epoch 7/10\n",
      "877/877 [==============================] - 2s 2ms/step - loss: 0.0158\n",
      "Epoch 8/10\n",
      "877/877 [==============================] - 2s 2ms/step - loss: 0.0145\n",
      "Epoch 9/10\n",
      "877/877 [==============================] - 2s 2ms/step - loss: 0.0119\n",
      "Epoch 10/10\n",
      "877/877 [==============================] - 2s 2ms/step - loss: 0.0102\n"
     ]
    },
    {
     "data": {
      "text/plain": [
       "<keras.callbacks.History at 0x2a504b2b648>"
      ]
     },
     "execution_count": 119,
     "metadata": {},
     "output_type": "execute_result"
    }
   ],
   "source": [
    "# Train the model\n",
    "model.fit(X_train, y_train, epochs=10, shuffle=False, batch_size=1, verbose=1)"
   ]
  },
  {
   "cell_type": "markdown",
   "metadata": {},
   "source": [
    "Now we will need to:\n",
    "\n",
    "1. Evaluate the model using the `X_test` and `y_test` data.\n",
    "\n",
    "2. Use the `X_test` data to make predictions.\n",
    "\n",
    "3. Create a DataFrame of real (`y_test`) vs predicted values.\n",
    "\n",
    "4. Plot the Real vs predicted values as a line chart."
   ]
  },
  {
   "cell_type": "code",
   "execution_count": 120,
   "metadata": {},
   "outputs": [
    {
     "name": "stdout",
     "output_type": "stream",
     "text": [
      "12/12 [==============================] - 1s 1ms/step - loss: 0.0340\n"
     ]
    },
    {
     "data": {
      "text/plain": [
       "0.034010518342256546"
      ]
     },
     "execution_count": 120,
     "metadata": {},
     "output_type": "execute_result"
    }
   ],
   "source": [
    "# Evaluate the model\n",
    "model.evaluate(X_test, y_test)"
   ]
  },
  {
   "cell_type": "code",
   "execution_count": 121,
   "metadata": {},
   "outputs": [],
   "source": [
    "# Make some predictions\n",
    "predicted = model.predict(X_test)"
   ]
  },
  {
   "cell_type": "code",
   "execution_count": 122,
   "metadata": {},
   "outputs": [],
   "source": [
    "# Recover real GLD prices from the scaled versions\n",
    "predicted_prices = scaler_dict['GLD'].inverse_transform(predicted)\n",
    "real_prices = scaler_dict['GLD'].inverse_transform(y_test.reshape(-1, 1))"
   ]
  },
  {
   "cell_type": "code",
   "execution_count": 123,
   "metadata": {},
   "outputs": [
    {
     "data": {
      "text/html": [
       "<div>\n",
       "<style scoped>\n",
       "    .dataframe tbody tr th:only-of-type {\n",
       "        vertical-align: middle;\n",
       "    }\n",
       "\n",
       "    .dataframe tbody tr th {\n",
       "        vertical-align: top;\n",
       "    }\n",
       "\n",
       "    .dataframe thead th {\n",
       "        text-align: right;\n",
       "    }\n",
       "</style>\n",
       "<table border=\"1\" class=\"dataframe\">\n",
       "  <thead>\n",
       "    <tr style=\"text-align: right;\">\n",
       "      <th></th>\n",
       "      <th>Real</th>\n",
       "      <th>Predicted</th>\n",
       "    </tr>\n",
       "  </thead>\n",
       "  <tbody>\n",
       "    <tr>\n",
       "      <th>2021-04-21</th>\n",
       "      <td>168.13</td>\n",
       "      <td>162.587692</td>\n",
       "    </tr>\n",
       "    <tr>\n",
       "      <th>2021-04-22</th>\n",
       "      <td>167.04</td>\n",
       "      <td>162.624863</td>\n",
       "    </tr>\n",
       "    <tr>\n",
       "      <th>2021-04-23</th>\n",
       "      <td>166.40</td>\n",
       "      <td>162.706482</td>\n",
       "    </tr>\n",
       "    <tr>\n",
       "      <th>2021-04-26</th>\n",
       "      <td>166.84</td>\n",
       "      <td>162.810638</td>\n",
       "    </tr>\n",
       "    <tr>\n",
       "      <th>2021-04-27</th>\n",
       "      <td>166.42</td>\n",
       "      <td>162.836823</td>\n",
       "    </tr>\n",
       "  </tbody>\n",
       "</table>\n",
       "</div>"
      ],
      "text/plain": [
       "              Real   Predicted\n",
       "2021-04-21  168.13  162.587692\n",
       "2021-04-22  167.04  162.624863\n",
       "2021-04-23  166.40  162.706482\n",
       "2021-04-26  166.84  162.810638\n",
       "2021-04-27  166.42  162.836823"
      ]
     },
     "execution_count": 123,
     "metadata": {},
     "output_type": "execute_result"
    }
   ],
   "source": [
    "# Create a DataFrame of Real and Predicted values\n",
    "gld = pd.DataFrame({\n",
    "    \"Real\": real_prices.ravel(),\n",
    "    \"Predicted\": predicted_prices.ravel()\n",
    "    }, index = df.index[-len(real_prices): ])\n",
    "gld.head()"
   ]
  },
  {
   "cell_type": "code",
   "execution_count": 124,
   "metadata": {},
   "outputs": [
    {
     "data": {
      "text/plain": [
       "<AxesSubplot:>"
      ]
     },
     "execution_count": 124,
     "metadata": {},
     "output_type": "execute_result"
    },
    {
     "data": {
      "image/png": "[encoded data removed]",
      "text/plain": [
       "<Figure size 432x288 with 1 Axes>"
      ]
     },
     "metadata": {
      "needs_background": "light"
     },
     "output_type": "display_data"
    }
   ],
   "source": [
    "gld.plot(rot=90)"
   ]
  },
  {
   "cell_type": "markdown",
   "metadata": {},
   "source": [
    "### Interesting results\n",
    "The model seemed to predict things would get pretty bad well before they did for gold prices. I've included some more code below that can help determine whether or not the model is good at prediciting individual daily movements. "
   ]
  },
  {
   "cell_type": "code",
   "execution_count": 125,
   "metadata": {},
   "outputs": [],
   "source": [
    "gld['real_change'] = gld['Real'].shift(-1) - gld['Real']\n",
    "gld['real_change'] = gld['real_change'].shift() \n",
    "gld['pred_change'] = gld['Predicted'].shift(-1) - gld['Predicted']\n",
    "gld['pred_change'] = gld['pred_change'].shift() \n",
    "conditions = [\n",
    "    (gld['real_change'] > 0) & (gld['pred_change'] > 0), \n",
    "    (gld['real_change'] < 0) & (gld['pred_change'] > 0),\n",
    "    (gld['real_change'] < 0) & (gld['pred_change'] < 0),\n",
    "    (gld['real_change'] > 0) & (gld['pred_change'] < 0),\n",
    "]\n",
    "\n",
    "values = ['true positive', 'false positive', 'true negative', 'false negative']\n",
    "gld['direction'] = np.select(conditions, values)"
   ]
  },
  {
   "cell_type": "code",
   "execution_count": 127,
   "metadata": {},
   "outputs": [
    {
     "data": {
      "text/plain": [
       "false negative    112\n",
       "true negative      96\n",
       "false positive     87\n",
       "true positive      81\n",
       "0                   1\n",
       "Name: direction, dtype: int64"
      ]
     },
     "execution_count": 127,
     "metadata": {},
     "output_type": "execute_result"
    }
   ],
   "source": [
    "gld['direction'].value_counts()"
   ]
  },
  {
   "cell_type": "markdown",
   "metadata": {},
   "source": [
    "# Conclusion\n",
    "---\n",
    "So while it isn't the GREATEST looking model, I can say from testing that this model would perform better using only the price action from GLD itself. All in all, this took about half a day to program from front to back, including all the comments, debugging, and everything else that comes with machine learning. \n",
    "\n",
    "If you're building this model BEFORE trying any others, I highly recommend trying random forest and other simpler machine learning models first. While neural networks are definitely great tools for approaching the markets, there are plenty of other options that can be spun up faster with out as much data wrangling (keras is a very picky eater!)\n",
    "\n",
    "Thank you for following along, hope this was helpful!"
   ]
  },
  {
   "cell_type": "markdown",
   "metadata": {},
   "source": []
  }
 ],
 "metadata": {
  "kernelspec": {
   "display_name": "Python 3.7.11 ('base')",
   "language": "python",
   "name": "python3"
  },
  "language_info": {
   "codemirror_mode": {
    "name": "ipython",
    "version": 3
   },
   "file_extension": ".py",
   "mimetype": "text/x-python",
   "name": "python",
   "nbconvert_exporter": "python",
   "pygments_lexer": "ipython3",
   "version": "3.7.11"
  },
  "orig_nbformat": 4,
  "vscode": {
   "interpreter": {
    "hash": "83e1771ce1f9df5de1670795847cb857ef6bf5f13021e3cce81b976772d7099f"
   }
  }
 },
 "nbformat": 4,
 "nbformat_minor": 2
}
